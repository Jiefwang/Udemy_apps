{
 "cells": [
  {
   "cell_type": "markdown",
   "metadata": {},
   "source": [
    "## A program:\n",
    "Stores this book information:\n",
    "    title, author, year, isbn\n",
    "\n",
    "User can:\n",
    "    view all records, search an entry, add entry, update entry, delete, close"
   ]
  },
  {
   "cell_type": "markdown",
   "metadata": {},
   "source": [
    "# Frontend frame"
   ]
  },
  {
   "cell_type": "code",
   "execution_count": null,
   "metadata": {},
   "outputs": [],
   "source": [
    "from tkinter import *"
   ]
  },
  {
   "cell_type": "code",
   "execution_count": 10,
   "metadata": {},
   "outputs": [],
   "source": [
    "window = Tk()\n",
    "\n",
    "# add label\n",
    "l1 = Label(window, text = 'Title')\n",
    "l1.grid(row = 0, column = 0)\n",
    "\n",
    "l2 = Label(window, text = 'Author')\n",
    "l2.grid(row = 0, column = 2)\n",
    "\n",
    "l3 = Label(window, text = 'Year')\n",
    "l3.grid(row = 1, column = 0)\n",
    "\n",
    "l4 = Label(window, text = 'ISBN')\n",
    "l4.grid(row = 1, column = 2)\n",
    "\n",
    "\n",
    "# add input for each label\n",
    "title_text = StringVar()\n",
    "e1 = Entry(window, textvariable = title_text)\n",
    "e1.grid(row = 0, column = 1)\n",
    "\n",
    "author_text = StringVar()\n",
    "e2 = Entry(window, textvariable = author_text)\n",
    "e2.grid(row = 0, column = 3)\n",
    "\n",
    "year_text = StringVar()\n",
    "e3 = Entry(window, textvariable = year_text)\n",
    "e3.grid(row = 1, column = 1)\n",
    "\n",
    "isbn_text = StringVar()\n",
    "e4 = Entry(window, textvariable = isbn_text)\n",
    "e4.grid(row = 1, column = 3)\n",
    "\n",
    "\n",
    "# add the listbox\n",
    "list1 = Listbox(window, height = 6, width = 35)\n",
    "list1.grid(row = 2, column = 0, rowspan = 6, columnspan = 2)\n",
    "\n",
    "sb1 = Scrollbar(window)\n",
    "sb1.grid(row = 2, column = 2, rowspan = 6)\n",
    "\n",
    "list1.configure(yscrollcommand = sb1.set)\n",
    "sb1.configure(command = list1.yview)\n",
    "\n",
    "# add button for choices\n",
    "b1 = Button(window, text = 'View all', width = 12)\n",
    "b1.grid(row = 2, column = 3)\n",
    "\n",
    "b2 = Button(window, text = 'Search entry', width = 12)\n",
    "b2.grid(row = 3, column = 3)\n",
    "\n",
    "b3 = Button(window, text = 'Add entry', width = 12)\n",
    "b3.grid(row = 4, column = 3)\n",
    "\n",
    "b4 = Button(window, text = 'Update', width = 12)\n",
    "b4.grid(row = 5, column = 3)\n",
    "\n",
    "b5 = Button(window, text = 'Delete', width = 12)\n",
    "b5.grid(row = 6, column = 3)\n",
    "\n",
    "b6 = Button(window, text = 'Close', width = 12)\n",
    "b6.grid(row = 7, column = 3)"
   ]
  },
  {
   "cell_type": "code",
   "execution_count": null,
   "metadata": {},
   "outputs": [],
   "source": [
    "\n",
    "window.mainloop()"
   ]
  },
  {
   "cell_type": "markdown",
   "metadata": {},
   "source": [
    "# Backend"
   ]
  },
  {
   "cell_type": "code",
   "execution_count": 1,
   "metadata": {},
   "outputs": [],
   "source": [
    "import sqlite3"
   ]
  },
  {
   "cell_type": "code",
   "execution_count": 2,
   "metadata": {},
   "outputs": [
    {
     "name": "stdout",
     "output_type": "stream",
     "text": [
      "[(1, 'The sea', 'John Tablet', 1918, 913123132), (2, 'The sea', 'John Tablet', 1918, 913123132), (4, 'The moon', 'John Smooth', 1917, 99999), (5, 'Hey You', 'Pink', 1918, 1238123), (6, 'Hey There You', 'Pink', 1918, 2342), (7, 'The sea', 'John Tablet', 1918, 913123132), (8, 'The sea', 'John Tablet', 1918, 913123132), (9, 'The sea', 'John Tablet', 1918, 913123132), (10, 'The sea', 'John Smith', 1918, 913123132), (11, 'The sea', 'John Tablet', 1918, 913123132), (12, 'The sea', 'John Smith', 1918, 913123132), (13, 'The sea', 'John Tablet', 1918, 913123132), (14, 'The sea', 'John Smith', 1918, 913123132), (15, 'The sea', 'John Tablet', 1918, 913123132), (16, 'The sea', 'John Smith', 1918, 913123132), (17, 'Wonderlands', 'Helena Gomez', 1944, 2442424), (18, 'HP', 'JKL', 1999, 131313), (19, 'The sea', 'John Tablet', 1918, 913123132), (20, 'The sea', 'John Smith', 1918, 913123132)]\n",
      "[(10, 'The sea', 'John Smith', 1918, 913123132), (12, 'The sea', 'John Smith', 1918, 913123132), (14, 'The sea', 'John Smith', 1918, 913123132), (16, 'The sea', 'John Smith', 1918, 913123132), (20, 'The sea', 'John Smith', 1918, 913123132)]\n"
     ]
    }
   ],
   "source": [
    "# linked to the input database\n",
    "def connect():\n",
    "    conn = sqlite3.connect('books.db')\n",
    "    cur = conn.cursor()\n",
    "    cur.execute(\"CREATE TABLE IF NOT EXISTS book (id INTEGER PRIMARY KEY, title text, author text, year integer, isbn integer)\")\n",
    "    conn.commit()\n",
    "    conn.close()\n",
    "    \n",
    "\n",
    "def insert(title, author, year, isbn):\n",
    "    conn = sqlite3.connect('books.db')\n",
    "    cur = conn.cursor()\n",
    "    cur.execute(\"INSERT INTO book VALUES (NULL, ?, ?, ?, ?)\", (title, author, year, isbn))\n",
    "    conn.commit()\n",
    "    conn.close()\n",
    "    \n",
    "    \n",
    "def view():\n",
    "    conn = sqlite3.connect('books.db')\n",
    "    cur = conn.cursor()\n",
    "    cur.execute('SELECT * FROM book')\n",
    "    rows = cur.fetchall()\n",
    "    conn.close()\n",
    "    return rows\n",
    "\n",
    "\n",
    "def search(title = \"\", author = \"\", year = \"\", isbn = \"\"):\n",
    "    conn = sqlite3.connect('books.db')\n",
    "    cur = conn.cursor()\n",
    "    cur.execute('SELECT * FROM book WHERE title = ? OR author = ? OR year = ? OR isbn = ?', (title, author, year, isbn))\n",
    "    rows = cur.fetchall()\n",
    "    conn.close()\n",
    "    return rows\n",
    "\n",
    "def delete(id):\n",
    "    conn = sqlite3.connect('books.db')\n",
    "    cur = conn.cursor()\n",
    "    cur.execute('DELETE FROM book WHERE id = ?', (id,))\n",
    "    conn.commit()\n",
    "    conn.close()\n",
    "\n",
    "def update(id, title, author, year, isbn):\n",
    "    conn = sqlite3.connect('books.db')\n",
    "    cur = conn.cursor()\n",
    "    cur.execute('UPDATE book SET title = ?, author = ?, year = ?, isbn = ? WHERE id = ?', (title, author, year, isbn, id))\n",
    "    conn.commit()\n",
    "    conn.close()\n",
    "    \n",
    "    \n",
    "    \n",
    "connect()\n",
    "insert(\"The sea\", 'John Tablet', 1918, 913123132)\n",
    "insert(\"The sea\", 'John Smith', 1918, 913123132)\n",
    "delete(3)\n",
    "update(4, 'The moon', 'John Smooth', 1917, 99999)\n",
    "print(view())\n",
    "print(search(author = \"John Smith\"))"
   ]
  },
  {
   "cell_type": "markdown",
   "metadata": {},
   "source": [
    "# Frontend linked to backend"
   ]
  },
  {
   "cell_type": "code",
   "execution_count": 3,
   "metadata": {},
   "outputs": [],
   "source": [
    "from tkinter import *\n"
   ]
  },
  {
   "cell_type": "code",
   "execution_count": 4,
   "metadata": {},
   "outputs": [],
   "source": [
    "import backend"
   ]
  },
  {
   "cell_type": "code",
   "execution_count": 75,
   "metadata": {},
   "outputs": [],
   "source": [
    "# get selected row is needed for delete\n",
    "def get_selected_row(event):\n",
    "    try:\n",
    "        global selected_tuple\n",
    "        index = list1.curselection()[0]\n",
    "        selected_tuple = list1.get(index)\n",
    "        e1.delete(0,END)\n",
    "        e1.insert(END,selected_tuple[1])\n",
    "        e2.delete(0,END)\n",
    "        e2.insert(END,selected_tuple[2])\n",
    "        e3.delete(0,END)\n",
    "        e3.insert(END,selected_tuple[3])\n",
    "        e4.delete(0,END)\n",
    "        e4.insert(END,selected_tuple[4])\n",
    "#     return selected_tuple  # do not need return because selected_tuple was set to global\n",
    "    except IndexError:\n",
    "        pass\n",
    "    \n",
    "\n",
    "def view_command():\n",
    "    list1.delete(0,END) # clear the current list\n",
    "    for row in backend.view():\n",
    "        list1.insert(END,row)        \n",
    "        \n",
    "        \n",
    "        \n",
    "def search_command():\n",
    "    list1.delete(0, END)\n",
    "    for row in backend.search(title_text.get(), author_text.get(), year_text.get(), isbn_text.get()):\n",
    "        list1.insert(END, row)\n",
    "\n",
    "def add_command():\n",
    "    backend.insert(title_text.get(), author_text.get(), year_text.get(), isbn_text.get())\n",
    "    list1.delete(0,END)\n",
    "    list1.insert(END, (title_text.get(), author_text.get(), year_text.get(), isbn_text.get()))\n",
    "#     for row in backend.search():\n",
    "\n",
    "def delete_command():\n",
    "#     backend.delete(get_selected_row()[0])\n",
    "    backend.delete(selected_tuple[0]) #selected_tuple is global now\n",
    "    \n",
    "def update_command():\n",
    "    backend.update(selected_tuple[0], title_text.get(), author_text.get(), year_text.get(), isbn_text.get()) \n",
    "\n",
    "\n",
    "# def update_command():\n",
    "    \n",
    "    \n",
    "    "
   ]
  },
  {
   "cell_type": "code",
   "execution_count": 76,
   "metadata": {},
   "outputs": [],
   "source": [
    "window = Tk()\n",
    "window.wm_title(\"BookStore\")\n",
    "\n",
    "# add label\n",
    "l1 = Label(window, text = 'Title')\n",
    "l1.grid(row = 0, column = 0)\n",
    "\n",
    "l2 = Label(window, text = 'Author')\n",
    "l2.grid(row = 0, column = 2)\n",
    "\n",
    "l3 = Label(window, text = 'Year')\n",
    "l3.grid(row = 1, column = 0)\n",
    "\n",
    "l4 = Label(window, text = 'ISBN')\n",
    "l4.grid(row = 1, column = 2)\n",
    "\n",
    "\n",
    "# add input for each label\n",
    "title_text = StringVar()\n",
    "e1 = Entry(window, textvariable = title_text)\n",
    "e1.grid(row = 0, column = 1)\n",
    "\n",
    "author_text = StringVar()\n",
    "e2 = Entry(window, textvariable = author_text)\n",
    "e2.grid(row = 0, column = 3)\n",
    "\n",
    "year_text = StringVar()\n",
    "e3 = Entry(window, textvariable = year_text)\n",
    "e3.grid(row = 1, column = 1)\n",
    "\n",
    "isbn_text = StringVar()\n",
    "e4 = Entry(window, textvariable = isbn_text)\n",
    "e4.grid(row = 1, column = 3)\n",
    "\n",
    "\n",
    "# add the listbox\n",
    "list1 = Listbox(window, height = 6, width = 35)\n",
    "list1.grid(row = 2, column = 0, rowspan = 6, columnspan = 2)\n",
    "\n",
    "sb1 = Scrollbar(window)\n",
    "sb1.grid(row = 2, column = 2, rowspan = 6)\n",
    "\n",
    "list1.configure(yscrollcommand = sb1.set)\n",
    "sb1.configure(command = list1.yview)\n",
    "\n",
    "#\n",
    "list1.bind('<<ListboxSelect>>', get_selected_row)\n",
    "\n",
    "\n",
    "# add button for choices\n",
    "# link button to backend\n",
    "b1 = Button(window, text = 'View all', width = 12, command = view_command)\n",
    "b1.grid(row = 2, column = 3)\n",
    "\n",
    "b2 = Button(window, text = 'Search entry', width = 12, command = search_command)\n",
    "b2.grid(row = 3, column = 3)\n",
    "\n",
    "b3 = Button(window, text = 'Add entry', width = 12, command = add_command)\n",
    "b3.grid(row = 4, column = 3)\n",
    "\n",
    "b4 = Button(window, text = 'Update', width = 12, command = update_command)\n",
    "b4.grid(row = 5, column = 3)\n",
    "\n",
    "b5 = Button(window, text = 'Delete', width = 12, command = delete_command)\n",
    "b5.grid(row = 6, column = 3)\n",
    "\n",
    "b6 = Button(window, text = 'Close', width = 12, command = window.destroy)\n",
    "b6.grid(row = 7, column = 3)"
   ]
  },
  {
   "cell_type": "code",
   "execution_count": 77,
   "metadata": {},
   "outputs": [],
   "source": [
    "window.mainloop()"
   ]
  },
  {
   "cell_type": "code",
   "execution_count": 78,
   "metadata": {},
   "outputs": [],
   "source": [
    "window.mainloop()"
   ]
  },
  {
   "cell_type": "code",
   "execution_count": 13,
   "metadata": {},
   "outputs": [
    {
     "name": "stdout",
     "output_type": "stream",
     "text": [
      "[(10, 'The sea', 'John Smith', 1918, 913123132), (12, 'The sea', 'John Smith', 1918, 913123132), (14, 'The sea', 'John Smith', 1918, 913123132), (16, 'The sea', 'John Smith', 1918, 913123132), (20, 'The sea', 'John Smith', 1918, 913123132)]\n"
     ]
    }
   ],
   "source": [
    " print(search(author = 'John Smith'))"
   ]
  },
  {
   "cell_type": "code",
   "execution_count": null,
   "metadata": {},
   "outputs": [],
   "source": []
  }
 ],
 "metadata": {
  "kernelspec": {
   "display_name": "Python 3",
   "language": "python",
   "name": "python3"
  },
  "language_info": {
   "codemirror_mode": {
    "name": "ipython",
    "version": 3
   },
   "file_extension": ".py",
   "mimetype": "text/x-python",
   "name": "python",
   "nbconvert_exporter": "python",
   "pygments_lexer": "ipython3",
   "version": "3.8.0"
  }
 },
 "nbformat": 4,
 "nbformat_minor": 4
}
